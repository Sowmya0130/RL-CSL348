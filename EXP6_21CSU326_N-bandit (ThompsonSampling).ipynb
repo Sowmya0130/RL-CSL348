{
 "cells": [
  {
   "cell_type": "code",
   "execution_count": 2,
   "id": "1021268b",
   "metadata": {},
   "outputs": [
    {
     "name": "stdout",
     "output_type": "stream",
     "text": [
      "Thompson Sampling Total Cumulative Reward: 5223.863791038632\n"
     ]
    }
   ],
   "source": [
    "import numpy as np\n",
    "\n",
    "# Define the number of slot machines\n",
    "num_machines = 5\n",
    "# Initialize the total number of trials\n",
    "total_trials = 1000\n",
    "# Initialize the mean values for each machine\n",
    "mean_values = np.random.randint(1, 10, size=num_machines)\n",
    "# Initialize the number of successes for each machine\n",
    "num_successes = np.zeros(num_machines)\n",
    "# Initialize the number of failures for each machine\n",
    "num_failures = np.zeros(num_machines)\n",
    "# Initialize the total cumulative reward\n",
    "total_cumulative_reward = 0\n",
    "\n",
    "# Thompson Sampling algorithm\n",
    "for t in range(1, total_trials + 1):\n",
    "    sampled_means = np.random.beta(num_successes + 1, num_failures + 1)\n",
    "    machine_to_pull = np.argmax(sampled_means)\n",
    "    reward = np.random.normal(mean_values[machine_to_pull], 1)\n",
    "    if reward > 0:\n",
    "        num_successes[machine_to_pull] += 1\n",
    "    else:\n",
    "        num_failures[machine_to_pull] += 1\n",
    "    total_cumulative_reward += reward\n",
    "\n",
    "print(\"Thompson Sampling Total Cumulative Reward:\", total_cumulative_reward)"
   ]
  }
 ],
 "metadata": {
  "kernelspec": {
   "display_name": "Python 3 (ipykernel)",
   "language": "python",
   "name": "python3"
  },
  "language_info": {
   "codemirror_mode": {
    "name": "ipython",
    "version": 3
   },
   "file_extension": ".py",
   "mimetype": "text/x-python",
   "name": "python",
   "nbconvert_exporter": "python",
   "pygments_lexer": "ipython3",
   "version": "3.9.12"
  }
 },
 "nbformat": 4,
 "nbformat_minor": 5
}
