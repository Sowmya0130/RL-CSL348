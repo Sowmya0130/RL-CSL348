{
 "cells": [
  {
   "cell_type": "markdown",
   "metadata": {},
   "source": [
    "# Experiment 1\n",
    "\n",
    "## Problem Statement\n",
    "\n",
    "Implement Probability Concepts on a Dataset.\n"
   ]
  },
  {
   "cell_type": "markdown",
   "metadata": {},
   "source": [
    "## Dataset Link"
   ]
  },
  {
   "cell_type": "markdown",
   "metadata": {},
   "source": [
    "https://www.kaggle.com/datasets/uciml/student-alcohol-consumption"
   ]
  },
  {
   "cell_type": "markdown",
   "metadata": {},
   "source": [
    "## Code\n"
   ]
  },
  {
   "cell_type": "code",
   "execution_count": 67,
   "metadata": {},
   "outputs": [],
   "source": [
    "# import libraries\n",
    "import pandas as pd\n",
    "import scipy.stats as stats\n",
    "from scipy.stats import uniform\n",
    "from scipy.stats import poisson"
   ]
  },
  {
   "cell_type": "code",
   "execution_count": 68,
   "metadata": {},
   "outputs": [
    {
     "name": "stdout",
     "output_type": "stream",
     "text": [
      "|    | school   | sex   |   age | address   | famsize   | Pstatus   |   Medu |   Fedu | Mjob    | Fjob     | reason   | guardian   |   traveltime |   studytime |   failures | schoolsup   | famsup   | paid   | activities   | nursery   | higher   | internet   | romantic   |   famrel |   freetime |   goout |   Dalc |   Walc |   health |   absences |   G1 |   G2 |   G3 |\n",
      "|---:|:---------|:------|------:|:----------|:----------|:----------|-------:|-------:|:--------|:---------|:---------|:-----------|-------------:|------------:|-----------:|:------------|:---------|:-------|:-------------|:----------|:---------|:-----------|:-----------|---------:|-----------:|--------:|-------:|-------:|---------:|-----------:|-----:|-----:|-----:|\n",
      "|  0 | GP       | F     |    18 | U         | GT3       | A         |      4 |      4 | at_home | teacher  | course   | mother     |            2 |           2 |          0 | yes         | no       | no     | no           | yes       | yes      | no         | no         |        4 |          3 |       4 |      1 |      1 |        3 |          4 |    0 |   11 |   11 |\n",
      "|  1 | GP       | F     |    17 | U         | GT3       | T         |      1 |      1 | at_home | other    | course   | father     |            1 |           2 |          0 | no          | yes      | no     | no           | no        | yes      | yes        | no         |        5 |          3 |       3 |      1 |      1 |        3 |          2 |    9 |   11 |   11 |\n",
      "|  2 | GP       | F     |    15 | U         | LE3       | T         |      1 |      1 | at_home | other    | other    | mother     |            1 |           2 |          0 | yes         | no       | no     | no           | yes       | yes      | yes        | no         |        4 |          3 |       2 |      2 |      3 |        3 |          6 |   12 |   13 |   12 |\n",
      "|  3 | GP       | F     |    15 | U         | GT3       | T         |      4 |      2 | health  | services | home     | mother     |            1 |           3 |          0 | no          | yes      | no     | yes          | yes       | yes      | yes        | yes        |        3 |          2 |       2 |      1 |      1 |        5 |          0 |   14 |   14 |   14 |\n",
      "|  4 | GP       | F     |    16 | U         | GT3       | T         |      3 |      3 | other   | other    | home     | father     |            1 |           2 |          0 | no          | yes      | no     | no           | yes       | yes      | no         | no         |        4 |          3 |       2 |      1 |      2 |        5 |          0 |   11 |   13 |   13 |\n"
     ]
    }
   ],
   "source": [
    "# reading the dataset\n",
    "df = pd.read_csv('student-por.csv')\n",
    "\n",
    "print(df.head().to_markdown())"
   ]
  },
  {
   "cell_type": "code",
   "execution_count": 69,
   "metadata": {},
   "outputs": [
    {
     "name": "stdout",
     "output_type": "stream",
     "text": [
      "Length of the dataset: 649\n",
      "Number of columns: 33\n",
      "Number of rows: 649\n"
     ]
    }
   ],
   "source": [
    "# getting length of the dataset\n",
    "print(f\"Length of the dataset: {len(df)}\")\n",
    "\n",
    "# getting the number of columns\n",
    "print(f\"Number of columns: {len(df.columns)}\")\n",
    "\n",
    "# getting the number of rows\n",
    "print(f\"Number of rows: {len(df.index)}\")"
   ]
  },
  {
   "cell_type": "code",
   "execution_count": 70,
   "metadata": {},
   "outputs": [],
   "source": [
    "# Add a boolean column called grade_A noting if a student achieved 80% or higher as a final score. Original values are on a 0–20 scale so we multiply by 5.\n",
    "df['grade_A'] = df['G3'] * 5 >= 80"
   ]
  },
  {
   "cell_type": "code",
   "execution_count": 71,
   "metadata": {},
   "outputs": [
    {
     "name": "stdout",
     "output_type": "stream",
     "text": [
      "|    |   absences |   G3 |\n",
      "|---:|-----------:|-----:|\n",
      "|  0 |          4 |   11 |\n",
      "|  1 |          2 |   11 |\n",
      "|  2 |          6 |   12 |\n",
      "|  3 |          0 |   14 |\n",
      "|  4 |          0 |   13 |\n"
     ]
    }
   ],
   "source": [
    "# create a pivot table to see the relationship between absences and grade_A\n",
    "pivot = df.iloc[0:395][['absences', 'G3']]\n",
    "print(pivot.head().to_markdown())"
   ]
  },
  {
   "cell_type": "code",
   "execution_count": 72,
   "metadata": {},
   "outputs": [
    {
     "name": "stdout",
     "output_type": "stream",
     "text": [
      "Count of students with absences > 10 and grade_A > 16: 1\n",
      "Count of students with absences > 10: 37\n",
      "Count of students with grade_A > 16: 26\n"
     ]
    }
   ],
   "source": [
    "# calculate count of students with absences > 10 and grade_A > 16\n",
    "count = len(pivot[(pivot['absences'] > 10) & (pivot['G3'] > 16)])\n",
    "print(f\"Count of students with absences > 10 and grade_A > 16: {count}\")\n",
    "\n",
    "# calculate count of students with absences > 10\n",
    "count1 = len(pivot[pivot['absences'] > 10])\n",
    "print(f\"Count of students with absences > 10: {count1}\")\n",
    "\n",
    "# calculate count of students with grade_A > 16\n",
    "count2 = len(pivot[(pivot['G3'] > 16)])\n",
    "print(f\"Count of students with grade_A > 16: {count2}\")"
   ]
  },
  {
   "cell_type": "code",
   "execution_count": 73,
   "metadata": {},
   "outputs": [
    {
     "name": "stdout",
     "output_type": "stream",
     "text": [
      "P(A ∩ B): 0.002531645569620253\n",
      "P(A): 0.06582278481012659\n",
      "P(B): 0.09367088607594937\n"
     ]
    }
   ],
   "source": [
    "# calculate P(A ∩ B)\n",
    "P_a_intersection_b = count/395\n",
    "print(f\"P(A ∩ B): {P_a_intersection_b}\")\n",
    "\n",
    "# calculate P(A)\n",
    "P_a = count2/395\n",
    "print(f\"P(A): {P_a}\")\n",
    "\n",
    "# calculate P(B)\n",
    "P_b = count1/395\n",
    "print(f\"P(B): {P_b}\")"
   ]
  },
  {
   "cell_type": "code",
   "execution_count": 74,
   "metadata": {},
   "outputs": [
    {
     "name": "stdout",
     "output_type": "stream",
     "text": [
      "P(A|B): 0.02702702702702703\n"
     ]
    }
   ],
   "source": [
    "# calculate P(A|B)\n",
    "P = P_a_intersection_b/P_b\n",
    "print(f\"P(A|B): {P}\")"
   ]
  },
  {
   "cell_type": "markdown",
   "metadata": {},
   "source": [
    "#### Question 1\n",
    "\n",
    "**THE BIRTHDAY PROBLEM**\n",
    "\n",
    "Compute the probability of getting a minimum of one overlapping birthday in a random group of 23 peoples.\n",
    "Because ontaining random sample again and again is tedious task, we can do simulations on a computer with assumptions.\n",
    "The birthdays are independent of each other. Each possible birthday has the same probability. There are only 365 possible birthdays (not 366, as ignoring the leap year.\n",
    "Hint : in other words, we're modelling the process as drawing 23 independent samples from a discrete uniform distribution with parameter n = 365.\n"
   ]
  },
  {
   "cell_type": "code",
   "execution_count": 75,
   "metadata": {},
   "outputs": [
    {
     "name": "stdout",
     "output_type": "stream",
     "text": [
      "Estimated P(ALOC) after 10000 trials: 0.5102\n"
     ]
    }
   ],
   "source": [
    "from random import randint\n",
    "\n",
    "\n",
    "NUM_PEOPLE = 23\n",
    "NUM_POSSIBLE_BIRTHDAYS = 365\n",
    "NUM_TRIALS = 10000\n",
    "\n",
    "\n",
    "def generate_random_birthday():\n",
    "    birthday = randint(1, NUM_POSSIBLE_BIRTHDAYS)\n",
    "    return birthday\n",
    "\n",
    "\n",
    "def generate_k_birthdays(k):\n",
    "    birthdays = [generate_random_birthday() for _ in range(k)]\n",
    "    return birthdays\n",
    "\n",
    "\n",
    "def aloc(birthdays):\n",
    "    unique_birthdays = set(birthdays)\n",
    "\n",
    "    num_birthdays = len(birthdays)\n",
    "    num_unique_birthdays = len(unique_birthdays)\n",
    "    has_coincidence = (num_birthdays != num_unique_birthdays)\n",
    "\n",
    "    return has_coincidence\n",
    "\n",
    "\n",
    "def estimate_p_aloc():\n",
    "    num_aloc = 0\n",
    "    for _ in range(NUM_TRIALS):\n",
    "        birthdays = generate_k_birthdays(NUM_PEOPLE)\n",
    "        has_coincidence = aloc(birthdays)\n",
    "        if has_coincidence:\n",
    "            num_aloc += 1\n",
    "\n",
    "    p_aloc = num_aloc / NUM_TRIALS\n",
    "    return p_aloc\n",
    "\n",
    "\n",
    "p_aloc = estimate_p_aloc()\n",
    "print(f\"Estimated P(ALOC) after {NUM_TRIALS} trials: {p_aloc}\")"
   ]
  },
  {
   "cell_type": "markdown",
   "metadata": {},
   "source": [
    "#### Question 2\n",
    "\n",
    "The weight of certain species of frog is uniformly distributed from 15 and 25 grams. if you randomly select a frog, what is the probability that the frog weights between 17 and 19 grams.\n"
   ]
  },
  {
   "cell_type": "code",
   "execution_count": 76,
   "metadata": {},
   "outputs": [
    {
     "name": "stdout",
     "output_type": "stream",
     "text": [
      "Probability of a uniform distribution: 0.2\n"
     ]
    }
   ],
   "source": [
    "# uniform distribution\n",
    "\n",
    "p_uniform = uniform.cdf(x=19, loc=15, scale=10) - \\\n",
    "    uniform.cdf(x=17, loc=15, scale=10)\n",
    "\n",
    "print(f\"Probability of a uniform distribution: {p_uniform}\")"
   ]
  },
  {
   "cell_type": "markdown",
   "metadata": {},
   "source": [
    "#### Question 3\n",
    "\n",
    "**Telecommunication Industry**\n",
    "\n",
    "According to the Telecommunication Industry the average monthly cell phone bill is Rs. 1000 with a standard deviation of Rs. 200.\n",
    "\n",
    "What is the probability that a randomly selected cell phone bill is more than Rs 1200? What is the probability that a randomly selected cell phone bill is between Rs 750 and Rs 1200? What is the probability that a randomly selected cell phone bill is no more than Rs 650? What is the amount above which lies top 15% of cell phone bills? What is the amount below which lies bottom 25% of cell phone bills?\n",
    "\n",
    "Note: This is a problem of normal probability distribution. Though the distribution is not mentioned, in absence of any other information we assume normality in the population.\n"
   ]
  },
  {
   "cell_type": "code",
   "execution_count": 77,
   "metadata": {},
   "outputs": [
    {
     "name": "stdout",
     "output_type": "stream",
     "text": [
      "0.15865525393145707\n",
      "0.6826894921370859\n"
     ]
    },
    {
     "data": {
      "text/plain": [
       "865.1020499607837"
      ]
     },
     "execution_count": 77,
     "metadata": {},
     "output_type": "execute_result"
    }
   ],
   "source": [
    "# normal distribution\n",
    "\n",
    "a = stats.norm.cdf(1200, 1000, 200)\n",
    "g = 1-a\n",
    "print(g)\n",
    "\n",
    "b = stats.norm.cdf(750, 1000, 200)\n",
    "print(a-g)\n",
    "stats.norm.ppf(.15, 1000, 200)\n",
    "\n",
    "stats.norm.ppf(.25, 1000, 200)"
   ]
  },
  {
   "cell_type": "markdown",
   "metadata": {},
   "source": [
    "#### Question 4\n",
    "\n",
    "**Fruit problem**\n",
    "\n",
    "Suppose we own a fruit shop and on an average 3 customers arrive in the shop every 10 minutes. The mean rate here is 3 or λ = 3. Poisson probability distributions can help us answer questions like what is the probability that 5 customers will arrive in the next 10 mins?\n"
   ]
  },
  {
   "cell_type": "code",
   "execution_count": 81,
   "metadata": {},
   "outputs": [
    {
     "name": "stdout",
     "output_type": "stream",
     "text": [
      "Probability of 5 or less customers:  0.9160820579686966\n"
     ]
    }
   ],
   "source": [
    "# poisson distribution\n",
    "\n",
    "# Probability of 5 or less customers\n",
    "p = poisson.cdf(5, 3)\n",
    "print(\"Probability of 5 or less customers: \", p)"
   ]
  }
 ],
 "metadata": {
  "kernelspec": {
   "display_name": "Python 3",
   "language": "python",
   "name": "python3"
  },
  "language_info": {
   "codemirror_mode": {
    "name": "ipython",
    "version": 3
   },
   "file_extension": ".py",
   "mimetype": "text/x-python",
   "name": "python",
   "nbconvert_exporter": "python",
   "pygments_lexer": "ipython3",
   "version": "3.12.0"
  },
  "orig_nbformat": 4
 },
 "nbformat": 4,
 "nbformat_minor": 2
}
