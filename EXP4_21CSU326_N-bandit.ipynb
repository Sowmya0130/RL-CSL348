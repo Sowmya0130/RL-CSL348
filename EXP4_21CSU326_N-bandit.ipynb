{
 "cells": [
  {
   "cell_type": "markdown",
   "id": "dd6ec866",
   "metadata": {},
   "source": [
    "# Exploration"
   ]
  },
  {
   "cell_type": "code",
   "execution_count": 1,
   "id": "43862d96",
   "metadata": {},
   "outputs": [
    {
     "name": "stdout",
     "output_type": "stream",
     "text": [
      "Cumulative Reward is 4927.604676993523\n",
      "Machine A = True Mean: 4, Average Reward: 4.93\n",
      "Machine B = True Mean: 9, Average Reward: 4.93\n",
      "Machine C = True Mean: 6, Average Reward: 4.93\n",
      "Machine D = True Mean: 1, Average Reward: 4.93\n",
      "Machine E = True Mean: 4, Average Reward: 4.93\n"
     ]
    }
   ],
   "source": [
    "import numpy as np\n",
    "\n",
    "slot_machine = 5\n",
    "trials = 1000\n",
    "mean = np.random.randint(1, 10, size=slot_machine)\n",
    "cumulative_reward = 0\n",
    "average_rewards = [0] * slot_machine\n",
    "\n",
    "for t in range(trials):\n",
    "    action = np.random.randint(slot_machine)\n",
    "    reward = np.random.normal(mean[action], 1)\n",
    "    cumulative_reward += reward\n",
    "\n",
    "    for slots in range(slot_machine):\n",
    "        average_rewards[slots] += (reward - average_rewards[slots]) / (t + 1)\n",
    "\n",
    "print(\"Cumulative Reward is\", cumulative_reward)\n",
    "for i in range(slot_machine):\n",
    "    print(f\"Machine {chr(65+i)} = True Mean: {mean[i]}, Average Reward: {average_rewards[i]:.2f}\")"
   ]
  },
  {
   "cell_type": "markdown",
   "id": "aa6527fd",
   "metadata": {},
   "source": [
    "# Exploitation"
   ]
  },
  {
   "cell_type": "code",
   "execution_count": null,
   "id": "5811fa66",
   "metadata": {},
   "outputs": [],
   "source": [
    "import numpy as np\n",
    "\n",
    "slot_machine = 5\n",
    "trials = 1000\n",
    "mean = np.random.randint(1, 10, size=slot_machine)\n",
    "mean[0] = 4\n",
    "mean[1] = 3\n",
    "mean[2] = 5\n",
    "mean[3] = 7\n",
    "mean[4] = 2\n",
    "cumulative_reward = 0\n",
    "average_rewards = [0, 0, 0, 0, 0]\n",
    "\n",
    "for t in range(trials):\n",
    "    if t < slot_machine:\n",
    "        action = t\n",
    "    else:\n",
    "        action = np.argmax(average_rewards)\n",
    "    reward = np.random.normal(mean[action], 1)\n",
    "    cumulative_reward += reward\n",
    "\n",
    "    for slots in range(slot_machine):\n",
    "        average_rewards[slots] += (reward - average_rewards[slots]) / (t + 1)\n",
    "\n",
    "print(f\"Cumulative Reward: {cumulative_reward}\")\n",
    "for i in range(slot_machine):\n",
    "    print(f\"Slot Machine {chr(65+i)} = True Mean: {mean[i]}, Average Reward: {average_rewards[i]:.2f}\")"
   ]
  },
  {
   "cell_type": "markdown",
   "id": "97a3e203",
   "metadata": {},
   "source": [
    "# Epsilon-Greedy"
   ]
  },
  {
   "cell_type": "code",
   "execution_count": null,
   "id": "3c5f9362",
   "metadata": {},
   "outputs": [],
   "source": [
    "import numpy as np\n",
    "\n",
    "slot_machine = 5\n",
    "trials = 1000\n",
    "mean = np.random.randint(1, 10, size=slot_machine)\n",
    "epsilon = 0.1\n",
    "cumulative_reward = 0\n",
    "count = [0] * slot_machine\n",
    "average_rewards = [0] * slot_machine\n",
    "\n",
    "for t in range(trials):\n",
    "    if np.random.random() < epsilon:\n",
    "        action = np.random.randint(slot_machine)\n",
    "    else:\n",
    "        action = np.argmax(average_rewards)\n",
    "    reward = np.random.normal(mean[action], 1)\n",
    "    cumulative_reward += reward\n",
    "    count[action] += 1\n",
    "    average_rewards[action] += (reward - average_rewards[action]) / count[action]\n",
    "\n",
    "print(f\"Cumulative Reward: {cumulative_reward}\")\n",
    "for i in range(slot_machine):\n",
    "    print(f\"Slot Machine {chr(65+i)} = True Mean: {mean[i]}, Average Reward: {average_rewards[i]:.2f}\")"
   ]
  }
 ],
 "metadata": {
  "kernelspec": {
   "display_name": "Python 3 (ipykernel)",
   "language": "python",
   "name": "python3"
  },
  "language_info": {
   "codemirror_mode": {
    "name": "ipython",
    "version": 3
   },
   "file_extension": ".py",
   "mimetype": "text/x-python",
   "name": "python",
   "nbconvert_exporter": "python",
   "pygments_lexer": "ipython3",
   "version": "3.9.12"
  }
 },
 "nbformat": 4,
 "nbformat_minor": 5
}
