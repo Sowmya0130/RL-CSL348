{
 "cells": [
  {
   "cell_type": "markdown",
   "id": "dd6ec866",
   "metadata": {},
   "source": [
    "# Exploration"
   ]
  },
  {
   "cell_type": "code",
   "execution_count": 2,
   "id": "43862d96",
   "metadata": {},
   "outputs": [
    {
     "name": "stdout",
     "output_type": "stream",
     "text": [
      "Cumulative Reward is 4340.850691288222\n",
      "Machine A = True Mean: 5, Average Reward: 4.34\n",
      "Machine B = True Mean: 2, Average Reward: 4.34\n",
      "Machine C = True Mean: 5, Average Reward: 4.34\n",
      "Machine D = True Mean: 6, Average Reward: 4.34\n",
      "Machine E = True Mean: 3, Average Reward: 4.34\n"
     ]
    }
   ],
   "source": [
    "import numpy as np\n",
    "\n",
    "slot_machine = 5\n",
    "trials = 1000\n",
    "mean = np.random.randint(1, 10, size=slot_machine)\n",
    "cumulative_reward = 0\n",
    "average_rewards = [0] * slot_machine\n",
    "\n",
    "for t in range(trials):\n",
    "    action = np.random.randint(slot_machine)\n",
    "    reward = np.random.normal(mean[action], 1)\n",
    "    cumulative_reward += reward\n",
    "\n",
    "    for slots in range(slot_machine):\n",
    "        average_rewards[slots] += (reward - average_rewards[slots]) / (t + 1)\n",
    "\n",
    "print(\"Cumulative Reward is\", cumulative_reward)\n",
    "for i in range(slot_machine):\n",
    "    print(f\"Machine {chr(65+i)} = True Mean: {mean[i]}, Average Reward: {average_rewards[i]:.2f}\")"
   ]
  },
  {
   "cell_type": "markdown",
   "id": "aa6527fd",
   "metadata": {},
   "source": [
    "# Exploitation"
   ]
  },
  {
   "cell_type": "code",
   "execution_count": 3,
   "id": "5811fa66",
   "metadata": {},
   "outputs": [
    {
     "name": "stdout",
     "output_type": "stream",
     "text": [
      "Cumulative Reward: 3976.8581726641996\n",
      "Slot Machine A = True Mean: 4, Average Reward: 3.98\n",
      "Slot Machine B = True Mean: 3, Average Reward: 3.98\n",
      "Slot Machine C = True Mean: 5, Average Reward: 3.98\n",
      "Slot Machine D = True Mean: 7, Average Reward: 3.98\n",
      "Slot Machine E = True Mean: 2, Average Reward: 3.98\n"
     ]
    }
   ],
   "source": [
    "import numpy as np\n",
    "\n",
    "slot_machine = 5\n",
    "trials = 1000\n",
    "mean = np.random.randint(1, 10, size=slot_machine)\n",
    "mean[0] = 4\n",
    "mean[1] = 3\n",
    "mean[2] = 5\n",
    "mean[3] = 7\n",
    "mean[4] = 2\n",
    "cumulative_reward = 0\n",
    "average_rewards = [0, 0, 0, 0, 0]\n",
    "\n",
    "for t in range(trials):\n",
    "    if t < slot_machine:\n",
    "        action = t\n",
    "    else:\n",
    "        action = np.argmax(average_rewards)\n",
    "    reward = np.random.normal(mean[action], 1)\n",
    "    cumulative_reward += reward\n",
    "\n",
    "    for slots in range(slot_machine):\n",
    "        average_rewards[slots] += (reward - average_rewards[slots]) / (t + 1)\n",
    "\n",
    "print(f\"Cumulative Reward: {cumulative_reward}\")\n",
    "for i in range(slot_machine):\n",
    "    print(f\"Slot Machine {chr(65+i)} = True Mean: {mean[i]}, Average Reward: {average_rewards[i]:.2f}\")"
   ]
  },
  {
   "cell_type": "markdown",
   "id": "97a3e203",
   "metadata": {},
   "source": [
    "# Epsilon-Greedy"
   ]
  },
  {
   "cell_type": "code",
   "execution_count": 4,
   "id": "3c5f9362",
   "metadata": {},
   "outputs": [
    {
     "name": "stdout",
     "output_type": "stream",
     "text": [
      "Cumulative Reward: 5942.197657867853\n",
      "Slot Machine A = True Mean: 5, Average Reward: 4.57\n",
      "Slot Machine B = True Mean: 3, Average Reward: 2.98\n",
      "Slot Machine C = True Mean: 6, Average Reward: 6.05\n",
      "Slot Machine D = True Mean: 6, Average Reward: 5.96\n",
      "Slot Machine E = True Mean: 6, Average Reward: 5.93\n"
     ]
    }
   ],
   "source": [
    "import numpy as np\n",
    "\n",
    "slot_machine = 5\n",
    "trials = 1000\n",
    "mean = np.random.randint(1, 10, size=slot_machine)\n",
    "epsilon = 0.1\n",
    "cumulative_reward = 0\n",
    "count = [0] * slot_machine\n",
    "average_rewards = [0] * slot_machine\n",
    "\n",
    "for t in range(trials):\n",
    "    if np.random.random() < epsilon:\n",
    "        action = np.random.randint(slot_machine)\n",
    "    else:\n",
    "        action = np.argmax(average_rewards)\n",
    "    reward = np.random.normal(mean[action], 1)\n",
    "    cumulative_reward += reward\n",
    "    count[action] += 1\n",
    "    average_rewards[action] += (reward - average_rewards[action]) / count[action]\n",
    "\n",
    "print(f\"Cumulative Reward: {cumulative_reward}\")\n",
    "for i in range(slot_machine):\n",
    "    print(f\"Slot Machine {chr(65+i)} = True Mean: {mean[i]}, Average Reward: {average_rewards[i]:.2f}\")"
   ]
  },
  {
   "cell_type": "code",
   "execution_count": 7,
   "id": "6c55a88a",
   "metadata": {},
   "outputs": [
    {
     "data": {
      "image/png": "[encoded data removed]",
      "text/plain": [
       "<Figure size 720x360 with 1 Axes>"
      ]
     },
     "metadata": {
      "needs_background": "light"
     },
     "output_type": "display_data"
    },
    {
     "data": {
      "image/png": "[encoded data removed]",
      "text/plain": [
       "<Figure size 720x360 with 1 Axes>"
      ]
     },
     "metadata": {
      "needs_background": "light"
     },
     "output_type": "display_data"
    }
   ],
   "source": [
    "import numpy as np\n",
    "import matplotlib.pyplot as plt\n",
    "\n",
    "def random_exploration(slot_machine, trials, mean):\n",
    "    cumulative_reward = 0\n",
    "    average_rewards = np.zeros(slot_machine)\n",
    "\n",
    "    for t in range(trials):\n",
    "        action = np.random.randint(slot_machine)\n",
    "        reward = np.random.normal(mean[action], 1)\n",
    "        cumulative_reward += reward\n",
    "        average_rewards += (reward - average_rewards) / (t + 1)\n",
    "\n",
    "    return cumulative_reward, average_rewards\n",
    "\n",
    "def exploitation(slot_machine, trials, mean):\n",
    "    cumulative_reward = 0\n",
    "    average_rewards = np.zeros(slot_machine)\n",
    "\n",
    "    for t in range(trials):\n",
    "        action = t if t < slot_machine else np.argmax(average_rewards)\n",
    "        reward = np.random.normal(mean[action], 1)\n",
    "        cumulative_reward += reward\n",
    "        average_rewards += (reward - average_rewards) / (t + 1)\n",
    "\n",
    "    return cumulative_reward, average_rewards\n",
    "\n",
    "def epsilon_greedy(slot_machine, trials, mean, epsilon):\n",
    "    cumulative_reward = 0\n",
    "    count = np.zeros(slot_machine)\n",
    "    average_rewards = np.zeros(slot_machine)\n",
    "\n",
    "    for t in range(trials):\n",
    "        action = np.random.randint(slot_machine) if np.random.random() < epsilon else np.argmax(average_rewards)\n",
    "        reward = np.random.normal(mean[action], 1)\n",
    "        cumulative_reward += reward\n",
    "        count[action] += 1\n",
    "        average_rewards[action] += (reward - average_rewards[action]) / count[action]\n",
    "\n",
    "    return cumulative_reward, average_rewards\n",
    "\n",
    "# Parameters\n",
    "slot_machine = 5\n",
    "trials = 1000\n",
    "mean = np.random.randint(1, 10, size=slot_machine)\n",
    "epsilon = 0.1\n",
    "\n",
    "# Random Exploration\n",
    "random_cumulative_reward, random_average_rewards = random_exploration(slot_machine, trials, mean)\n",
    "\n",
    "# Exploitation\n",
    "exploitation_cumulative_reward, exploitation_average_rewards = exploitation(slot_machine, trials, mean)\n",
    "\n",
    "# Epsilon-Greedy\n",
    "epsilon_greedy_cumulative_reward, epsilon_greedy_average_rewards = epsilon_greedy(slot_machine, trials, mean, epsilon)\n",
    "\n",
    "# Plot cumulative rewards\n",
    "plt.figure(figsize=(10,5))\n",
    "plt.bar(['Random Exploration', 'Exploitation', 'Epsilon-Greedy'], [random_cumulative_reward, exploitation_cumulative_reward, epsilon_greedy_cumulative_reward])\n",
    "plt.title('Cumulative Rewards for Different Exploration Strategies')\n",
    "plt.xlabel('Exploration Strategies')\n",
    "plt.ylabel('Cumulative Reward')\n",
    "plt.show()\n",
    "\n",
    "# Plot average rewards\n",
    "plt.figure(figsize=(10,5))\n",
    "index = np.arange(slot_machine)\n",
    "bar_width = 0.25\n",
    "plt.bar(index, random_average_rewards, bar_width, alpha=0.5, label='Random Exploration')\n",
    "plt.bar(index + bar_width, exploitation_average_rewards, bar_width, alpha=0.5, label='Exploitation')\n",
    "plt.bar(index + 2 * bar_width, epsilon_greedy_average_rewards, bar_width, alpha=0.5, label='Epsilon-Greedy')\n",
    "plt.xticks(index + bar_width, ['A', 'B', 'C', 'D', 'E'])\n",
    "plt.title('Average Rewards for Each Slot Machine')\n",
    "plt.xlabel('Slot Machines')\n",
    "plt.ylabel('Average Reward')\n",
    "plt.legend()\n",
    "plt.show()"
   ]
  }
 ],
 "metadata": {
  "kernelspec": {
   "display_name": "Python 3 (ipykernel)",
   "language": "python",
   "name": "python3"
  },
  "language_info": {
   "codemirror_mode": {
    "name": "ipython",
    "version": 3
   },
   "file_extension": ".py",
   "mimetype": "text/x-python",
   "name": "python",
   "nbconvert_exporter": "python",
   "pygments_lexer": "ipython3",
   "version": "3.9.12"
  }
 },
 "nbformat": 4,
 "nbformat_minor": 5
}
