{
 "cells": [
  {
   "cell_type": "code",
   "execution_count": 1,
   "id": "eb24003e",
   "metadata": {},
   "outputs": [
    {
     "name": "stdout",
     "output_type": "stream",
     "text": [
      "Estimated π using Monte Carlo: 3.141628\n"
     ]
    }
   ],
   "source": [
    "import random\n",
    "\n",
    "def monte_carlo_pi(num_samples):\n",
    "    inside_circle = 0\n",
    "\n",
    "    for _ in range(num_samples):\n",
    "        x = random.uniform(0, 1)\n",
    "        y = random.uniform(0, 1)\n",
    "\n",
    "        # Check if the point is inside the unit circle\n",
    "        if x**2 + y**2 <= 1:\n",
    "            inside_circle += 1\n",
    "\n",
    "    # Calculate the estimated value of π\n",
    "    pi_estimate = (inside_circle / num_samples) * 4\n",
    "    return pi_estimate\n",
    "\n",
    "if __name__ == \"__main__\":\n",
    "    num_samples = 1000000  # Number of random samples\n",
    "    estimated_pi = monte_carlo_pi(num_samples)\n",
    "    print(f\"Estimated π using Monte Carlo: {estimated_pi}\")"
   ]
  }
 ],
 "metadata": {
  "kernelspec": {
   "display_name": "Python 3 (ipykernel)",
   "language": "python",
   "name": "python3"
  },
  "language_info": {
   "codemirror_mode": {
    "name": "ipython",
    "version": 3
   },
   "file_extension": ".py",
   "mimetype": "text/x-python",
   "name": "python",
   "nbconvert_exporter": "python",
   "pygments_lexer": "ipython3",
   "version": "3.9.12"
  }
 },
 "nbformat": 4,
 "nbformat_minor": 5
}
