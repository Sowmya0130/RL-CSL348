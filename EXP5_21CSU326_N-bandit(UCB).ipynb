{
 "cells": [
  {
   "cell_type": "code",
   "execution_count": 2,
   "id": "68d6aa1c",
   "metadata": {},
   "outputs": [
    {
     "name": "stdout",
     "output_type": "stream",
     "text": [
      "UCB Total Cumulative Reward: 8948.791131030017\n"
     ]
    }
   ],
   "source": [
    "import warnings \n",
    "warnings.filterwarnings('ignore')\n",
    "\n",
    "import numpy as np\n",
    "\n",
    "# Define the number of slot machines\n",
    "num_machines = 5\n",
    "# Initialize the total number of trials\n",
    "total_trials = 1000\n",
    "# Initialize the mean values for each machine\n",
    "mean_values = np.random.randint(1, 10, size=num_machines)\n",
    "# Initialize the number of times each machine is pulled\n",
    "num_pulls = np.zeros(num_machines)\n",
    "# Initialize the sum of rewards for each machine\n",
    "sum_rewards = np.zeros(num_machines)\n",
    "# Initialize the total cumulative reward\n",
    "total_cumulative_reward = 0\n",
    "\n",
    "# UCB algorithm\n",
    "for t in range(1, total_trials + 1):\n",
    "    ucb_values = sum_rewards / num_pulls + np.sqrt(2 * np.log(t) / num_pulls)\n",
    "    machine_to_pull = np.argmax(ucb_values)\n",
    "    reward = np.random.normal(mean_values[machine_to_pull], 1)\n",
    "    num_pulls[machine_to_pull] += 1\n",
    "    sum_rewards[machine_to_pull] += reward\n",
    "    total_cumulative_reward += reward\n",
    "\n",
    "print(\"UCB Total Cumulative Reward:\", total_cumulative_reward)"
   ]
  }
 ],
 "metadata": {
  "kernelspec": {
   "display_name": "Python 3 (ipykernel)",
   "language": "python",
   "name": "python3"
  },
  "language_info": {
   "codemirror_mode": {
    "name": "ipython",
    "version": 3
   },
   "file_extension": ".py",
   "mimetype": "text/x-python",
   "name": "python",
   "nbconvert_exporter": "python",
   "pygments_lexer": "ipython3",
   "version": "3.9.12"
  }
 },
 "nbformat": 4,
 "nbformat_minor": 5
}
